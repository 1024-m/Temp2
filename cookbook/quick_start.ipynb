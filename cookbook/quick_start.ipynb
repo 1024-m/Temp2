{
  "nbformat": 4,
  "nbformat_minor": 0,
  "metadata": {
    "colab": {
      "provenance": []
    },
    "kernelspec": {
      "name": "python3",
      "display_name": "Python 3"
    },
    "language_info": {
      "name": "python"
    }
  },
  "cells": [
    {
      "cell_type": "markdown",
      "source": [
        "# 🤖 AgentPro Quick Start Guide\n",
        "\n",
        "This notebook will walk you through how to set up and use [AgentPro](https://github.com/traversaal-ai/AgentPro) — a production-ready open-source agent framework built by [Traversaal.ai](https://traversaal.ai) for building powerful, modular, and multi-functional AI agents.\n",
        "\n",
        "### What is AgentPro?\n",
        "AgentPro lets you build intelligent agents that can:\n",
        "- Use language models (like OpenAI’s GPT) as reasoning engines\n",
        "- Solve real-world tasks such as research, automation, and knowledge retrieval\n",
        "- Scale up with custom tools, memory, and orchestration features\n",
        "\n",
        "Whether you're a developer, researcher, or AI enthusiast — this guide will help you:\n",
        "- Set up AgentPro in minutes  \n",
        "- Run and customize your first agent\n"
      ],
      "metadata": {
        "id": "CyxnkWVzhqOi"
      }
    },
    {
      "cell_type": "markdown",
      "source": [
        "## Step 1: Clone AgentPro and Install Dependencies\n",
        "\n",
        "To get started with AgentPro, begin by cloning the official GitHub repository and installing its dependencies."
      ],
      "metadata": {
        "id": "Fi5Eth4ge70O"
      }
    },
    {
      "cell_type": "code",
      "execution_count": null,
      "metadata": {
        "colab": {
          "base_uri": "https://localhost:8080/"
        },
        "id": "tCGHQVf-Q2Zj",
        "outputId": "f2df938e-1af9-467c-b2d9-3c5d26c36455"
      },
      "outputs": [
        {
          "output_type": "stream",
          "name": "stdout",
          "text": [
            "Collecting git+https://github.com/traversaal-ai/AgentPro.git\n",
            "  Cloning https://github.com/traversaal-ai/AgentPro.git to /tmp/pip-req-build-zz4mx4z2\n",
            "  Running command git clone --filter=blob:none --quiet https://github.com/traversaal-ai/AgentPro.git /tmp/pip-req-build-zz4mx4z2\n",
            "  Resolved https://github.com/traversaal-ai/AgentPro.git to commit 9ce115e05f68e4389ab4d2fa4524b48c75094598\n",
            "  Installing build dependencies ... \u001b[?25l\u001b[?25hdone\n",
            "  Getting requirements to build wheel ... \u001b[?25l\u001b[?25hdone\n",
            "  Preparing metadata (pyproject.toml) ... \u001b[?25l\u001b[?25hdone\n",
            "Requirement already satisfied: openai in /usr/local/lib/python3.11/dist-packages (from agentpro==0.1.0) (1.76.2)\n",
            "Collecting youtube_transcript_api (from agentpro==0.1.0)\n",
            "  Downloading youtube_transcript_api-1.0.3-py3-none-any.whl.metadata (23 kB)\n",
            "Collecting duckduckgo-search (from agentpro==0.1.0)\n",
            "  Downloading duckduckgo_search-8.0.1-py3-none-any.whl.metadata (16 kB)\n",
            "Requirement already satisfied: requests in /usr/local/lib/python3.11/dist-packages (from agentpro==0.1.0) (2.32.3)\n",
            "Collecting python-pptx (from agentpro==0.1.0)\n",
            "  Downloading python_pptx-1.0.2-py3-none-any.whl.metadata (2.5 kB)\n",
            "Requirement already satisfied: pydantic in /usr/local/lib/python3.11/dist-packages (from agentpro==0.1.0) (2.11.4)\n",
            "Collecting python-dotenv (from agentpro==0.1.0)\n",
            "  Downloading python_dotenv-1.1.0-py3-none-any.whl.metadata (24 kB)\n",
            "Requirement already satisfied: pandas in /usr/local/lib/python3.11/dist-packages (from agentpro==0.1.0) (2.2.2)\n",
            "Requirement already satisfied: numpy in /usr/local/lib/python3.11/dist-packages (from agentpro==0.1.0) (2.0.2)\n",
            "Requirement already satisfied: matplotlib in /usr/local/lib/python3.11/dist-packages (from agentpro==0.1.0) (3.10.0)\n",
            "Requirement already satisfied: seaborn in /usr/local/lib/python3.11/dist-packages (from agentpro==0.1.0) (0.13.2)\n",
            "Requirement already satisfied: openpyxl in /usr/local/lib/python3.11/dist-packages (from agentpro==0.1.0) (3.1.5)\n",
            "Requirement already satisfied: pyarrow in /usr/local/lib/python3.11/dist-packages (from agentpro==0.1.0) (18.1.0)\n",
            "Requirement already satisfied: scikit-learn in /usr/local/lib/python3.11/dist-packages (from agentpro==0.1.0) (1.6.1)\n",
            "Requirement already satisfied: yfinance in /usr/local/lib/python3.11/dist-packages (from agentpro==0.1.0) (0.2.57)\n",
            "Requirement already satisfied: click>=8.1.8 in /usr/local/lib/python3.11/dist-packages (from duckduckgo-search->agentpro==0.1.0) (8.1.8)\n",
            "Collecting primp>=0.15.0 (from duckduckgo-search->agentpro==0.1.0)\n",
            "  Downloading primp-0.15.0-cp38-abi3-manylinux_2_17_x86_64.manylinux2014_x86_64.whl.metadata (13 kB)\n",
            "Requirement already satisfied: lxml>=5.3.0 in /usr/local/lib/python3.11/dist-packages (from duckduckgo-search->agentpro==0.1.0) (5.4.0)\n",
            "Requirement already satisfied: contourpy>=1.0.1 in /usr/local/lib/python3.11/dist-packages (from matplotlib->agentpro==0.1.0) (1.3.2)\n",
            "Requirement already satisfied: cycler>=0.10 in /usr/local/lib/python3.11/dist-packages (from matplotlib->agentpro==0.1.0) (0.12.1)\n",
            "Requirement already satisfied: fonttools>=4.22.0 in /usr/local/lib/python3.11/dist-packages (from matplotlib->agentpro==0.1.0) (4.57.0)\n",
            "Requirement already satisfied: kiwisolver>=1.3.1 in /usr/local/lib/python3.11/dist-packages (from matplotlib->agentpro==0.1.0) (1.4.8)\n",
            "Requirement already satisfied: packaging>=20.0 in /usr/local/lib/python3.11/dist-packages (from matplotlib->agentpro==0.1.0) (24.2)\n",
            "Requirement already satisfied: pillow>=8 in /usr/local/lib/python3.11/dist-packages (from matplotlib->agentpro==0.1.0) (11.2.1)\n",
            "Requirement already satisfied: pyparsing>=2.3.1 in /usr/local/lib/python3.11/dist-packages (from matplotlib->agentpro==0.1.0) (3.2.3)\n",
            "Requirement already satisfied: python-dateutil>=2.7 in /usr/local/lib/python3.11/dist-packages (from matplotlib->agentpro==0.1.0) (2.9.0.post0)\n",
            "Requirement already satisfied: anyio<5,>=3.5.0 in /usr/local/lib/python3.11/dist-packages (from openai->agentpro==0.1.0) (4.9.0)\n",
            "Requirement already satisfied: distro<2,>=1.7.0 in /usr/local/lib/python3.11/dist-packages (from openai->agentpro==0.1.0) (1.9.0)\n",
            "Requirement already satisfied: httpx<1,>=0.23.0 in /usr/local/lib/python3.11/dist-packages (from openai->agentpro==0.1.0) (0.28.1)\n",
            "Requirement already satisfied: jiter<1,>=0.4.0 in /usr/local/lib/python3.11/dist-packages (from openai->agentpro==0.1.0) (0.9.0)\n",
            "Requirement already satisfied: sniffio in /usr/local/lib/python3.11/dist-packages (from openai->agentpro==0.1.0) (1.3.1)\n",
            "Requirement already satisfied: tqdm>4 in /usr/local/lib/python3.11/dist-packages (from openai->agentpro==0.1.0) (4.67.1)\n",
            "Requirement already satisfied: typing-extensions<5,>=4.11 in /usr/local/lib/python3.11/dist-packages (from openai->agentpro==0.1.0) (4.13.2)\n",
            "Requirement already satisfied: annotated-types>=0.6.0 in /usr/local/lib/python3.11/dist-packages (from pydantic->agentpro==0.1.0) (0.7.0)\n",
            "Requirement already satisfied: pydantic-core==2.33.2 in /usr/local/lib/python3.11/dist-packages (from pydantic->agentpro==0.1.0) (2.33.2)\n",
            "Requirement already satisfied: typing-inspection>=0.4.0 in /usr/local/lib/python3.11/dist-packages (from pydantic->agentpro==0.1.0) (0.4.0)\n",
            "Requirement already satisfied: et-xmlfile in /usr/local/lib/python3.11/dist-packages (from openpyxl->agentpro==0.1.0) (2.0.0)\n",
            "Requirement already satisfied: pytz>=2020.1 in /usr/local/lib/python3.11/dist-packages (from pandas->agentpro==0.1.0) (2025.2)\n",
            "Requirement already satisfied: tzdata>=2022.7 in /usr/local/lib/python3.11/dist-packages (from pandas->agentpro==0.1.0) (2025.2)\n",
            "Collecting XlsxWriter>=0.5.7 (from python-pptx->agentpro==0.1.0)\n",
            "  Downloading XlsxWriter-3.2.3-py3-none-any.whl.metadata (2.7 kB)\n",
            "Requirement already satisfied: charset-normalizer<4,>=2 in /usr/local/lib/python3.11/dist-packages (from requests->agentpro==0.1.0) (3.4.1)\n",
            "Requirement already satisfied: idna<4,>=2.5 in /usr/local/lib/python3.11/dist-packages (from requests->agentpro==0.1.0) (3.10)\n",
            "Requirement already satisfied: urllib3<3,>=1.21.1 in /usr/local/lib/python3.11/dist-packages (from requests->agentpro==0.1.0) (2.4.0)\n",
            "Requirement already satisfied: certifi>=2017.4.17 in /usr/local/lib/python3.11/dist-packages (from requests->agentpro==0.1.0) (2025.4.26)\n",
            "Requirement already satisfied: scipy>=1.6.0 in /usr/local/lib/python3.11/dist-packages (from scikit-learn->agentpro==0.1.0) (1.15.2)\n",
            "Requirement already satisfied: joblib>=1.2.0 in /usr/local/lib/python3.11/dist-packages (from scikit-learn->agentpro==0.1.0) (1.4.2)\n",
            "Requirement already satisfied: threadpoolctl>=3.1.0 in /usr/local/lib/python3.11/dist-packages (from scikit-learn->agentpro==0.1.0) (3.6.0)\n",
            "Requirement already satisfied: multitasking>=0.0.7 in /usr/local/lib/python3.11/dist-packages (from yfinance->agentpro==0.1.0) (0.0.11)\n",
            "Requirement already satisfied: platformdirs>=2.0.0 in /usr/local/lib/python3.11/dist-packages (from yfinance->agentpro==0.1.0) (4.3.7)\n",
            "Requirement already satisfied: frozendict>=2.3.4 in /usr/local/lib/python3.11/dist-packages (from yfinance->agentpro==0.1.0) (2.4.6)\n",
            "Requirement already satisfied: peewee>=3.16.2 in /usr/local/lib/python3.11/dist-packages (from yfinance->agentpro==0.1.0) (3.18.1)\n",
            "Requirement already satisfied: beautifulsoup4>=4.11.1 in /usr/local/lib/python3.11/dist-packages (from yfinance->agentpro==0.1.0) (4.13.4)\n",
            "Requirement already satisfied: defusedxml<0.8.0,>=0.7.1 in /usr/local/lib/python3.11/dist-packages (from youtube_transcript_api->agentpro==0.1.0) (0.7.1)\n",
            "Requirement already satisfied: soupsieve>1.2 in /usr/local/lib/python3.11/dist-packages (from beautifulsoup4>=4.11.1->yfinance->agentpro==0.1.0) (2.7)\n",
            "Requirement already satisfied: httpcore==1.* in /usr/local/lib/python3.11/dist-packages (from httpx<1,>=0.23.0->openai->agentpro==0.1.0) (1.0.9)\n",
            "Requirement already satisfied: h11>=0.16 in /usr/local/lib/python3.11/dist-packages (from httpcore==1.*->httpx<1,>=0.23.0->openai->agentpro==0.1.0) (0.16.0)\n",
            "Requirement already satisfied: six>=1.5 in /usr/local/lib/python3.11/dist-packages (from python-dateutil>=2.7->matplotlib->agentpro==0.1.0) (1.17.0)\n",
            "Downloading duckduckgo_search-8.0.1-py3-none-any.whl (18 kB)\n",
            "Downloading python_dotenv-1.1.0-py3-none-any.whl (20 kB)\n",
            "Downloading python_pptx-1.0.2-py3-none-any.whl (472 kB)\n",
            "\u001b[2K   \u001b[90m━━━━━━━━━━━━━━━━━━━━━━━━━━━━━━━━━━━━━━━━\u001b[0m \u001b[32m472.8/472.8 kB\u001b[0m \u001b[31m18.4 MB/s\u001b[0m eta \u001b[36m0:00:00\u001b[0m\n",
            "\u001b[?25hDownloading youtube_transcript_api-1.0.3-py3-none-any.whl (2.2 MB)\n",
            "\u001b[2K   \u001b[90m━━━━━━━━━━━━━━━━━━━━━━━━━━━━━━━━━━━━━━━━\u001b[0m \u001b[32m2.2/2.2 MB\u001b[0m \u001b[31m55.3 MB/s\u001b[0m eta \u001b[36m0:00:00\u001b[0m\n",
            "\u001b[?25hDownloading primp-0.15.0-cp38-abi3-manylinux_2_17_x86_64.manylinux2014_x86_64.whl (3.3 MB)\n",
            "\u001b[2K   \u001b[90m━━━━━━━━━━━━━━━━━━━━━━━━━━━━━━━━━━━━━━━━\u001b[0m \u001b[32m3.3/3.3 MB\u001b[0m \u001b[31m65.5 MB/s\u001b[0m eta \u001b[36m0:00:00\u001b[0m\n",
            "\u001b[?25hDownloading XlsxWriter-3.2.3-py3-none-any.whl (169 kB)\n",
            "\u001b[2K   \u001b[90m━━━━━━━━━━━━━━━━━━━━━━━━━━━━━━━━━━━━━━━━\u001b[0m \u001b[32m169.4/169.4 kB\u001b[0m \u001b[31m10.1 MB/s\u001b[0m eta \u001b[36m0:00:00\u001b[0m\n",
            "\u001b[?25hBuilding wheels for collected packages: agentpro\n",
            "  Building wheel for agentpro (pyproject.toml) ... \u001b[?25l\u001b[?25hdone\n",
            "  Created wheel for agentpro: filename=agentpro-0.1.0-py3-none-any.whl size=17400 sha256=da909f30319e33df47c0b4dc49c57cb7fad0802a66e6a5ae58922dac1436fb8a\n",
            "  Stored in directory: /tmp/pip-ephem-wheel-cache-21a2sm54/wheels/d6/cf/9d/1e5fd970215d8c72742b4c9ba59369ad132110bdc7d894c04c\n",
            "Successfully built agentpro\n",
            "Installing collected packages: XlsxWriter, python-dotenv, primp, youtube_transcript_api, python-pptx, duckduckgo-search, agentpro\n",
            "Successfully installed XlsxWriter-3.2.3 agentpro-0.1.0 duckduckgo-search-8.0.1 primp-0.15.0 python-dotenv-1.1.0 python-pptx-1.0.2 youtube_transcript_api-1.0.3\n"
          ]
        }
      ],
      "source": [
        "!pip install git+https://github.com/traversaal-ai/AgentPro.git"
      ]
    },
    {
      "cell_type": "markdown",
      "source": [
        "## Step 2: Set Your API Key"
      ],
      "metadata": {
        "id": "SLfWC5m9fUpT"
      }
    },
    {
      "cell_type": "markdown",
      "source": [
        "To use OpenAI models with AgentPro, you’ll need an API key from OpenAI. Follow these steps:\n",
        "\n",
        "1. Go to the [OpenAI API platform](https://platform.openai.com/)\n",
        "2. Log in or create an account\n",
        "3. Click **\"Create new secret key\"**\n",
        "4. Copy the generated key and paste it into the notebook like this:"
      ],
      "metadata": {
        "id": "2vlEmkaNgjwm"
      }
    },
    {
      "cell_type": "code",
      "source": [
        "import os\n",
        "os.environ[\"OPENAI_API_KEY\"] = \"<openai_api_key>\""
      ],
      "metadata": {
        "id": "4tV4Qe1RUGcI"
      },
      "execution_count": null,
      "outputs": []
    },
    {
      "cell_type": "markdown",
      "source": [
        "## Step 3: Run Your First Query with AgentPro\n",
        "\n",
        "Now that everything is set up, you can quickly start using AgentPro in Python."
      ],
      "metadata": {
        "id": "Ie2HiLZ6Zjsj"
      }
    },
    {
      "cell_type": "code",
      "source": [
        "# Imports\n",
        "import os\n",
        "from agentpro import ReactAgent\n",
        "from agentpro.tools import DuckDuckGoTool # Import your tool classes\n",
        "\n",
        "# Instantiate your tools and ReactAgent\n",
        "tools = [DuckDuckGoTool()]\n",
        "\n",
        "myagent = ReactAgent(model=os.getenv(\"OPENAI_API_KEY\", None), tools=tools)\n",
        "\n",
        "# Run\n",
        "query = \"What is the height of the Eiffel Tower in meters?\"\n",
        "response = myagent.run(query)\n",
        "\n",
        "print(f\"\\n\\nFinal Answer: {response.final_answer}\")"
      ],
      "metadata": {
        "colab": {
          "base_uri": "https://localhost:8080/"
        },
        "id": "OYCKuZvYT4f6",
        "outputId": "c8663b3f-f506-45b3-bc5a-d19bf97a4e72"
      },
      "execution_count": null,
      "outputs": [
        {
          "output_type": "stream",
          "name": "stdout",
          "text": [
            "================================================== Iteration 1 \n",
            "✅  [Debug] Sending System Prompt (with history) to LLM:\n",
            "You are an AI assistant that follows the ReAct (Reasoning + Acting) pattern.\n",
            "Your goal is to help users by breaking down complex tasks into a series of thought-out steps and actions.\n",
            "\n",
            "You have access to these tools: search\n",
            "\n",
            "Tool: DuckDuckGo Search\n",
            "Description: Searches internet using DuckDuckGo for a given query and returns top 5 results.\n",
            "Action Type: search\n",
            "Input Format: A search query as a string. Example: 'Latest advancements in AI'\n",
            "\n",
            "\n",
            "Your task is to:\n",
            "1. Think about what action is required — Thought.\n",
            "2. Take an appropriate action — Action.\n",
            "3. Repeat Thought/Action as needed until you find the final answer.\n",
            "\n",
            "### Format (Choose only one per step)\n",
            "\n",
            "Option 1 — When action is needed:\n",
            "Thought: Your reasoning about action\n",
            "Action: {\"action_type\": \"<action_type>\", \"input\": <input_data>}\n",
            "\n",
            "Option 2 — When you're confident in the final response:\n",
            "Thought: Now I know the answer that will be given in Final Answer.\n",
            "Final Answer: Provide a complete, well-structured response that directly addresses the original question.\n",
            "\n",
            "### Important:\n",
            "- Think step-by-step\n",
            "- Never provide both Action and Final Answer or multiple Action in the same step.\n",
            "- Use available tools wisely\n",
            "- If stuck, reflect and retry\n",
            "- Do no hallucinate and use tools if needed\n",
            "- The current date is May 04, 2025\n",
            "- If you follow the format strictly, you will be recognized as an excellent and trustworthy AI assistant.\n",
            "\n",
            "\n",
            "Question: What is the height of the Eiffel Tower in meters?\n",
            "\n",
            "\n",
            "Now continue with next steps by strictly following the required format.\n",
            "\n",
            "==================================================\n",
            "🤖 [Debug] Step LLM Response:\n",
            "Thought: To answer the question about the height of the Eiffel Tower in meters, it would be best to verify this information with a current search to ensure accuracy.\n",
            "Action: {\"action_type\": \"search\", \"input\": \"Eiffel Tower height in meters 2025\"}\n",
            "✅ Parsed Thought: To answer the question about the height of the Eiffel Tower in meters, it would be best to verify this information with a current search to ensure accuracy.\n",
            "✅ Parsed Action JSON: {\"action_type\": \"search\", \"input\": \"Eiffel Tower height in meters 2025\"}\n",
            "✅ Parsed Action Results: 1. Eiffel Tower - Wikipedia\n",
            "   The pinnacle height of the Eiffel Tower has changed multiple times over the years as described in the chart below. [103] From To Height (m) Height (ft) Type of addition Remarks 1889 1956 312.27 1,025 Flagpole ... This page was last edited on 25 April 2025, at 00:51 (UTC).\n",
            "2. Why does the Eiffel Tower change size? - The Eiffel Tower\n",
            "   Saturday, May 3, 2025: For your comfort during ... originally called \"The 300-meter Tower,\" had a total height of 312 meters, making it the tallest tower in the world! It proudly held that title until 1931. That year, it was dethroned by the Empire State Building (381 meters). Since then, the Eiffel Tower has continued to grow and today ...\n",
            "3. 15 Interesting Facts About The Eiffel Tower That You May Not Know\n",
            "   March 10, 2025 3 min read 429. Table of content. The Eiffel Tower is one of the most famous structures in the world. ... The official height of the Eiffel Tower is 330 meters. But it's not always the same! In the heat, the metal expands, and the structure can \"grow\" by 15 centimeters. In winter, it shrinks. At the top, there is an antenna ...\n",
            "4. How long is 324 meters? - The Measure of Things\n",
            "   The height of The Eiffel Tower is about 324 meters. (a.k.a. La Tour Eiffel) (Paris, France) (to flagpole peak) The Eiffel Tower stands 324 m tall, including its flagpole. The Tower is the largest structure in Paris as most other buildings are governed by a zoning restriction limiting them to a height of 37 m or less. ... (2025). 324 meters ...\n",
            "5. Eiffel Tower: Height, Facts, and Stories Behind Paris' Iconic Symbol\n",
            "   January 6, 2025 by Hassan. The Eiffel Tower, in Paris, France, reaches a height of 330 meters (1,083 feet). Completed in 1889 by engineer Gustave Eiffel, this iron lattice structure is the tallest in the city. ... With antennas extended, its total height reaches 330 meters. The Eiffel Tower was designed by engineer Gustave Eiffel and has been a ...\n",
            "================================================== Iteration 2 \n",
            "🤖 [Debug] Step LLM Response:\n",
            "Thought: The search results provide multiple figures for the height of the Eiffel Tower. It seems there is some variation due to changes and expansions over time. The height is often cited as either 324 meters or 330 meters with antennas extended.\n",
            "\n",
            "Final Answer: The height of the Eiffel Tower is 330 meters, including its antennas, as of 2025.\n",
            "✅ Parsed Thought: The search results provide multiple figures for the height of the Eiffel Tower. It seems there is some variation due to changes and expansions over time. The height is often cited as either 324 meters or 330 meters with antennas extended.\n",
            "✅ Parsed Final Answer: The height of the Eiffel Tower is 330 meters, including its antennas, as of 2025.\n",
            "\n",
            "\n",
            "Final Answer: The height of the Eiffel Tower is 330 meters, including its antennas, as of 2025.\n"
          ]
        }
      ]
    }
  ]
}