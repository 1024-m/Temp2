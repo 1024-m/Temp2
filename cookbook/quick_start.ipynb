{
  "nbformat": 4,
  "nbformat_minor": 0,
  "metadata": {
    "colab": {
      "provenance": []
    },
    "kernelspec": {
      "name": "python3",
      "display_name": "Python 3"
    },
    "language_info": {
      "name": "python"
    }
  },
  "cells": [
    {
      "cell_type": "markdown",
      "source": [
        "# 🤖 AgentPro Quick Start Guide\n",
        "\n",
        "This notebook will walk you through how to set up and use [AgentPro](https://github.com/traversaal-ai/AgentPro) — a production-ready open-source agent framework built by [Traversaal.ai](https://traversaal.ai) for building powerful, modular, and multi-functional AI agents.\n",
        "\n",
        "### What is AgentPro?\n",
        "AgentPro lets you build intelligent agents that can:\n",
        "- Use language models (like OpenAI’s GPT) as reasoning engines\n",
        "- Solve real-world tasks such as research, automation, and knowledge retrieval\n",
        "- Scale up with custom tools, memory, and orchestration features\n",
        "\n",
        "Whether you're a developer, researcher, or AI enthusiast — this guide will help you:\n",
        "- Set up AgentPro in minutes  \n",
        "- Run and customize your first agent\n"
      ],
      "metadata": {
        "id": "CyxnkWVzhqOi"
      }
    },
    {
      "cell_type": "markdown",
      "source": [
        "## Step 1: Clone AgentPro and Install Dependencies\n",
        "\n",
        "To get started with AgentPro, begin by cloning the official GitHub repository and installing its dependencies."
      ],
      "metadata": {
        "id": "Fi5Eth4ge70O"
      }
    },
    {
      "cell_type": "code",
      "execution_count": 1,
      "metadata": {
        "colab": {
          "base_uri": "https://localhost:8080/"
        },
        "id": "tCGHQVf-Q2Zj",
        "outputId": "7b8be27a-78b2-464d-848e-785c96410c0d"
      },
      "outputs": [
        {
          "output_type": "stream",
          "name": "stdout",
          "text": [
            "  Installing build dependencies ... \u001b[?25l\u001b[?25hdone\n",
            "  Getting requirements to build wheel ... \u001b[?25l\u001b[?25hdone\n",
            "  Preparing metadata (pyproject.toml) ... \u001b[?25l\u001b[?25hdone\n",
            "\u001b[2K   \u001b[90m━━━━━━━━━━━━━━━━━━━━━━━━━━━━━━━━━━━━━━━━\u001b[0m \u001b[32m7.7/7.7 MB\u001b[0m \u001b[31m46.7 MB/s\u001b[0m eta \u001b[36m0:00:00\u001b[0m\n",
            "\u001b[2K   \u001b[90m━━━━━━━━━━━━━━━━━━━━━━━━━━━━━━━━━━━━━━━━\u001b[0m \u001b[32m647.0/647.0 kB\u001b[0m \u001b[31m25.1 MB/s\u001b[0m eta \u001b[36m0:00:00\u001b[0m\n",
            "\u001b[2K   \u001b[90m━━━━━━━━━━━━━━━━━━━━━━━━━━━━━━━━━━━━━━━━\u001b[0m \u001b[32m472.8/472.8 kB\u001b[0m \u001b[31m22.9 MB/s\u001b[0m eta \u001b[36m0:00:00\u001b[0m\n",
            "\u001b[2K   \u001b[90m━━━━━━━━━━━━━━━━━━━━━━━━━━━━━━━━━━━━━━━━\u001b[0m \u001b[32m2.2/2.2 MB\u001b[0m \u001b[31m42.5 MB/s\u001b[0m eta \u001b[36m0:00:00\u001b[0m\n",
            "\u001b[2K   \u001b[90m━━━━━━━━━━━━━━━━━━━━━━━━━━━━━━━━━━━━━━━━\u001b[0m \u001b[32m3.3/3.3 MB\u001b[0m \u001b[31m53.9 MB/s\u001b[0m eta \u001b[36m0:00:00\u001b[0m\n",
            "\u001b[2K   \u001b[90m━━━━━━━━━━━━━━━━━━━━━━━━━━━━━━━━━━━━━━━━\u001b[0m \u001b[32m169.4/169.4 kB\u001b[0m \u001b[31m8.0 MB/s\u001b[0m eta \u001b[36m0:00:00\u001b[0m\n",
            "\u001b[?25h  Building wheel for agentpro (pyproject.toml) ... \u001b[?25l\u001b[?25hdone\n"
          ]
        }
      ],
      "source": [
        "!pip install git+https://github.com/traversaal-ai/AgentPro.git -q"
      ]
    },
    {
      "cell_type": "markdown",
      "source": [
        "## Step 2: Set Your API Key"
      ],
      "metadata": {
        "id": "SLfWC5m9fUpT"
      }
    },
    {
      "cell_type": "markdown",
      "source": [
        "To use OpenAI models with AgentPro, you’ll need an API key from OpenAI. Follow these steps:\n",
        "\n",
        "1. Go to the [OpenAI API platform](https://platform.openai.com/)\n",
        "2. Log in or create an account\n",
        "3. Click **\"Create new secret key\"**\n",
        "4. Copy the generated key and paste it into the notebook like this:"
      ],
      "metadata": {
        "id": "2vlEmkaNgjwm"
      }
    },
    {
      "cell_type": "code",
      "source": [
        "import os\n",
        "os.environ[\"OPENAI_API_KEY\"] = \"\""
      ],
      "metadata": {
        "id": "4tV4Qe1RUGcI"
      },
      "execution_count": 2,
      "outputs": []
    },
    {
      "cell_type": "markdown",
      "source": [
        "## Step 3: Run Your First Query with AgentPro\n",
        "\n",
        "Now that everything is set up, you can quickly start using AgentPro in Python."
      ],
      "metadata": {
        "id": "Ie2HiLZ6Zjsj"
      }
    },
    {
      "cell_type": "code",
      "source": [
        "import os\n",
        "from agentpro import ReactAgent\n",
        "from agentpro.tools import QuickInternetTool\n",
        "from agentpro import create_model\n",
        "\n",
        "# Create a model with OpenAI\n",
        "model = create_model(provider=\"openai\", model_name=\"gpt-4o\", api_key=os.getenv(\"OPENAI_API_KEY\", None))\n",
        "\n",
        "# Initialize tools\n",
        "tools = [QuickInternetTool()]\n",
        "\n",
        "# Initialize agent\n",
        "agent = ReactAgent(model=model, tools=tools)\n",
        "\n",
        "# Run a query\n",
        "query = \"What is the height of the Eiffel Tower?\"\n",
        "response = agent.run(query)\n",
        "\n",
        "print(response.final_answer)"
      ],
      "metadata": {
        "colab": {
          "base_uri": "https://localhost:8080/"
        },
        "id": "OYCKuZvYT4f6",
        "outputId": "edcf32df-f3e1-4c8c-8fb0-0ab13ba703a9"
      },
      "execution_count": 3,
      "outputs": [
        {
          "output_type": "stream",
          "name": "stdout",
          "text": [
            "================================================== Iteration 1 \n",
            "✅  [Debug] Sending System Prompt (with history) to LLM:\n",
            "You are an AI assistant that follows the ReAct (Reasoning + Acting) pattern.\n",
            "        \n",
            "Your goal is to help users by breaking down complex tasks into a series of thought-out steps and actions.\n",
            "\n",
            "You have access to these tools: search\n",
            "\n",
            "Tool: Quick Internet Search\n",
            "Description: Searches internet quickly using DuckDuckGo for a given query and returns top 5 results.\n",
            "Action Type: search\n",
            "Input Format: A search query as a string. Example: 'Latest advancements in AI'\n",
            "\n",
            "\n",
            "Your task is to:\n",
            "1. Think about what action is required — Thought.\n",
            "2. Take an appropriate action — Action.\n",
            "3. Repeat Thought/Action as needed until you find the final answer.\n",
            "\n",
            "### Format (Choose only one per response)\n",
            "\n",
            "Option 1 — When action is needed:\n",
            "Thought: Your reasoning about action and observation.\n",
            "Action: {\"action_type\": \"<action_type>\", \"input\": <input_data>}\n",
            "\n",
            "Option 2 — When you're confident in the final response:\n",
            "Thought: Now I know the answer that will be given in Final Answer.\n",
            "Final Answer: Provide a complete, well-structured response that directly addresses the original question.\n",
            "\n",
            "### Important:\n",
            "- Think step-by-step.\n",
            "- Never provide both Action and Final Answer or multiple Action in the same response.\n",
            "- Use available tools wisely.\n",
            "- If stuck, reflect and retry but never hallucinate.\n",
            "- If observation is empty or not related, reflect and retry but never hallucinate.\n",
            "- The current date is May 14, 2025.\n",
            "- If you follow the format strictly, you will be recognized as an excellent and trustworthy AI assistant.\n",
            "\n",
            "\n",
            "Question: What is the height of the Eiffel Tower?\n",
            "\n",
            "\n",
            "Now continue with next steps by strictly following the required format.\n",
            "\n",
            "==================================================\n",
            "🤖 [Debug] Step LLM Response:\n",
            "Thought: To find the height of the Eiffel Tower, I need to perform a quick internet search to get the most accurate and up-to-date information.\n",
            "Action: {\"action_type\": \"search\", \"input\": \"height of the Eiffel Tower\"}\n",
            "✅ Parsed Thought: To find the height of the Eiffel Tower, I need to perform a quick internet search to get the most accurate and up-to-date information.\n",
            "✅ Parsed Action JSON: {\"action_type\": \"search\", \"input\": \"height of the Eiffel Tower\"}\n",
            "✅ Parsed Action Results: Error performing search: https://lite.duckduckgo.com/lite/ 202 Ratelimit\n",
            "================================================== Iteration 2 \n",
            "🤖 [Debug] Step LLM Response:\n",
            "Thought: Since the initial search attempt was unsuccessful due to a rate limit error, I will try performing the search again to get the necessary information.\n",
            "Action: {\"action_type\":\"search\",\"input\":\"height of the Eiffel Tower\"}\n",
            "✅ Parsed Thought: Since the initial search attempt was unsuccessful due to a rate limit error, I will try performing the search again to get the necessary information.\n",
            "✅ Parsed Action JSON: {\"action_type\":\"search\",\"input\":\"height of the Eiffel Tower\"}\n",
            "✅ Parsed Action Results: 1. Eiffel Tower - Wikipedia\n",
            "   The Eiffel Tower is a wrought-iron lattice tower in Paris, France, that was the tallest structure in the world from 1889 to 1930. It is 330 metres (1,083 ft) tall, with a base of 125 metres (410 ft) on each side, and has three levels for visitors.\n",
            "2. Eiffel Tower | History, Height, & Facts | Britannica\n",
            "   Eiffel Tower, wrought-iron structure in Paris that is one of the most famous landmarks in the world. It is also a technological masterpiece in building-construction history. It was designed and built (1887-89) by Gustave Eiffel and named in his honor.\n",
            "3. Eiffel Tower information : facts, height in feet, weight,\n",
            "   Learn about the history, construction and features of the Eiffel Tower, the most visited monument in the world. The current height of the tower is 1083 feet, with a total weight of 10,100 tons and 2,500,000 rivets.\n",
            "4. Eiffel Tower - Height, Timeline & Facts - HISTORY\n",
            "   Learn about the design, construction and history of the Eiffel Tower, the iconic 1,000-foot iron structure in Paris. Find out how it became a landmark, a radio station and a tourist attraction.\n",
            "5. How Tall Is the Eiffel Tower? - WorldAtlas\n",
            "   The Eiffel Tower is 300 meters tall, but with antennas it reaches 324 meters. Learn more about the history, structure, and significance of this iconic Paris landmark.\n",
            "================================================== Iteration 3 \n",
            "🤖 [Debug] Step LLM Response:\n",
            "Thought: The search results provide consistent information about the height of the Eiffel Tower. The most common figure mentioned is 330 meters (1,083 feet), including its antennas. This is the current height of the Eiffel Tower, as indicated by multiple sources.\n",
            "\n",
            "Final Answer: The height of the Eiffel Tower is 330 meters (1,083 feet), including its antennas.\n",
            "✅ Parsed Thought: The search results provide consistent information about the height of the Eiffel Tower. The most common figure mentioned is 330 meters (1,083 feet), including its antennas. This is the current height of the Eiffel Tower, as indicated by multiple sources.\n",
            "✅ Parsed Final Answer: The height of the Eiffel Tower is 330 meters (1,083 feet), including its antennas.\n",
            "The height of the Eiffel Tower is 330 meters (1,083 feet), including its antennas.\n"
          ]
        }
      ]
    },
    {
      "cell_type": "code",
      "source": [],
      "metadata": {
        "id": "ryUFym7Kkw5x"
      },
      "execution_count": null,
      "outputs": []
    }
  ]
}